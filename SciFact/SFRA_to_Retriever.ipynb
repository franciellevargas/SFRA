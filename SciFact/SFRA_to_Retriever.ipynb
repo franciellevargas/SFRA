{
  "cells": [
    {
      "cell_type": "code",
      "execution_count": null,
      "metadata": {
        "colab": {
          "base_uri": "https://localhost:8080/"
        },
        "id": "X8nz25jtNcyY",
        "outputId": "38704156-e924-4a98-c0ee-ae64266b7369"
      },
      "outputs": [
        {
          "data": {
            "text/plain": [
              "['doc_id', 'title', 'abstract', 'structured']"
            ]
          },
          "execution_count": 2,
          "metadata": {},
          "output_type": "execute_result"
        }
      ],
      "source": [
        "import json # para que sirve esto?\n",
        "file_path = '/content/corpus.jsonl'\n",
        "with open(file_path, 'r', encoding='utf-8') as f:\n",
        "    first_line = f.readline()\n",
        "    data = json.loads(first_line)\n",
        "    columns = list(data.keys())\n",
        "\n",
        "columns"
      ]
    },
    {
      "cell_type": "code",
      "execution_count": null,
      "metadata": {
        "colab": {
          "base_uri": "https://localhost:8080/"
        },
        "id": "hkg0SvG1Sn5g",
        "outputId": "cd8961d3-4b28-484b-edb2-76b579740615"
      },
      "outputs": [
        {
          "data": {
            "text/plain": [
              "['id', 'claim', 'evidence', 'cited_doc_ids']"
            ]
          },
          "execution_count": 3,
          "metadata": {},
          "output_type": "execute_result"
        }
      ],
      "source": [
        "import json\n",
        "\n",
        "# Caminho do arquivo\n",
        "file_path = '/content/claims_train.jsonl'\n",
        "\n",
        "# Abrir o arquivo e ler a primeira linha para obter as colunas\n",
        "with open(file_path, 'r', encoding='utf-8') as f:\n",
        "    first_line = f.readline()\n",
        "    data = json.loads(first_line)\n",
        "    columns = list(data.keys())\n",
        "\n",
        "columns\n"
      ]
    },
    {
      "cell_type": "code",
      "execution_count": null,
      "metadata": {
        "colab": {
          "base_uri": "https://localhost:8080/"
        },
        "id": "b_Mnp0NDMPGh",
        "outputId": "87f82c0a-f161-460c-aab7-1b3172aa7d62"
      },
      "outputs": [
        {
          "name": "stdout",
          "output_type": "stream",
          "text": [
            "{'doc_id': 4983, 'title': 'Microstructural development of human newborn cerebral white matter assessed in vivo by diffusion tensor magnetic resonance imaging.', 'abstract': ['Alterations of the architecture of cerebral white matter in the developing human brain can affect cortical development and result in functional disabilities.', 'A line scan diffusion-weighted magnetic resonance imaging (MRI) sequence with diffusion tensor analysis was applied to measure the apparent diffusion coefficient, to calculate relative anisotropy, and to delineate three-dimensional fiber architecture in cerebral white matter in preterm (n = 17) and full-term infants (n = 7).', 'To assess effects of prematurity on cerebral white matter development, early gestation preterm infants (n = 10) were studied a second time at term.', 'In the central white matter the mean apparent diffusion coefficient at 28 wk was high, 1.8 microm2/ms, and decreased toward term to 1.2 microm2/ms.', 'In the posterior limb of the internal capsule, the mean apparent diffusion coefficients at both times were similar (1.2 versus 1.1 microm2/ms).', 'Relative anisotropy was higher the closer birth was to term with greater absolute values in the internal capsule than in the central white matter.', 'Preterm infants at term showed higher mean diffusion coefficients in the central white matter (1.4 +/-', '0.24 versus 1.15 +/-', '0.09 microm2/ms, p = 0.016) and lower relative anisotropy in both areas compared with full-term infants (white matter, 10.9 +/- 0.6 versus 22.9 +/-', '3.0%, p = 0.001; internal capsule, 24.0 +/-', '4.44 versus 33.1 +/-', '0.6% p = 0.006).', 'Nonmyelinated fibers in the corpus callosum were visible by diffusion tensor MRI as early as 28 wk; full-term and preterm infants at term showed marked differences in white matter fiber organization.', 'The data indicate that quantitative assessment of water diffusion by diffusion tensor MRI provides insight into microstructural development in cerebral white matter in living infants.'], 'structured': False}\n",
            "{'doc_id': 5836, 'title': 'Induction of myelodysplasia by myeloid-derived suppressor cells.', 'abstract': ['Myelodysplastic syndromes (MDS) are age-dependent stem cell malignancies that share biological features of activated adaptive immune response and ineffective hematopoiesis.', 'Here we report that myeloid-derived suppressor cells (MDSC), which are classically linked to immunosuppression, inflammation, and cancer, were markedly expanded in the bone marrow of MDS patients and played a pathogenetic role in the development of ineffective hematopoiesis.', 'These clonally distinct MDSC overproduce hematopoietic suppressive cytokines and function as potent apoptotic effectors targeting autologous hematopoietic progenitors.', 'Using multiple transfected cell models, we found that MDSC expansion is driven by the interaction of the proinflammatory molecule S100A9 with CD33.', 'These 2 proteins formed a functional ligand/receptor pair that recruited components to CD33’s immunoreceptor tyrosine-based inhibition motif (ITIM), inducing secretion of the suppressive cytokines IL-10 and TGF-β by immature myeloid cells.', 'S100A9 transgenic mice displayed bone marrow accumulation of MDSC accompanied by development of progressive multilineage cytopenias and cytological dysplasia.', 'Importantly, early forced maturation of MDSC by either all-trans-retinoic acid treatment or active immunoreceptor tyrosine-based activation motif–bearing (ITAM-bearing) adapter protein (DAP12) interruption of CD33 signaling rescued the hematologic phenotype.', 'These findings indicate that primary bone marrow expansion of MDSC driven by the S100A9/CD33 pathway perturbs hematopoiesis and contributes to the development of MDS.'], 'structured': False}\n",
            "{'doc_id': 7912, 'title': 'BC1 RNA, the transcript from a master gene for ID element amplification, is able to prime its own reverse transcription.', 'abstract': ['ID elements are short interspersed elements (SINEs) found in high copy number in many rodent genomes.', 'BC1 RNA, an ID-related transcript, is derived from the single copy BC1 RNA gene.', 'The BC1 RNA gene has been shown to be a master gene for ID element amplification in rodent genomes.', 'ID elements are dispersed through a process termed retroposition.', 'The retroposition process involves a number of potential regulatory steps.', 'These regulatory steps may include transcription in the appropriate tissue, transcript stability, priming of the RNA transcript for reverse transcription and integration.', 'This study focuses on priming of the RNA transcript for reverse transcription.', 'BC1 RNA gene transcripts are shown to be able to prime their own reverse transcription in an efficient intramolecular and site-specific fashion.', \"This self-priming ability is a consequence of the secondary structure of the 3'-unique region.\", 'The observation that a gene actively amplified throughout rodent evolution makes a RNA capable of efficient self-primed reverse transcription strongly suggests that self-priming is at least one feature establishing the BC1 RNA gene as a master gene for amplification of ID elements.'], 'structured': False}\n",
            "{'doc_id': 18670, 'title': 'The DNA Methylome of Human Peripheral Blood Mononuclear Cells', 'abstract': ['DNA methylation plays an important role in biological processes in human health and disease.', 'Recent technological advances allow unbiased whole-genome DNA methylation (methylome) analysis to be carried out on human cells.', 'Using whole-genome bisulfite sequencing at 24.7-fold coverage (12.3-fold per strand), we report a comprehensive (92.62%) methylome and analysis of the unique sequences in human peripheral blood mononuclear cells (PBMC) from the same Asian individual whose genome was deciphered in the YH project.', 'PBMC constitute an important source for clinical blood tests world-wide.', 'We found that 68.4% of CpG sites and <0.2% of non-CpG sites were methylated, demonstrating that non-CpG cytosine methylation is minor in human PBMC.', 'Analysis of the PBMC methylome revealed a rich epigenomic landscape for 20 distinct genomic features, including regulatory, protein-coding, non-coding, RNA-coding, and repeat sequences.', 'Integration of our methylome data with the YH genome sequence enabled a first comprehensive assessment of allele-specific methylation (ASM) between the two haploid methylomes of any individual and allowed the identification of 599 haploid differentially methylated regions (hDMRs) covering 287 genes.', 'Of these, 76 genes had hDMRs within 2 kb of their transcriptional start sites of which >80% displayed allele-specific expression (ASE).', 'These data demonstrate that ASM is a recurrent phenomenon and is highly correlated with ASE in human PBMCs.', 'Together with recently reported similar studies, our study provides a comprehensive resource for future epigenomic research and confirms new sequencing technology as a paradigm for large-scale epigenomics studies.'], 'structured': False}\n",
            "{'doc_id': 19238, 'title': 'The human myelin basic protein gene is included within a 179-kilobase transcription unit: expression in the immune and central nervous systems.', 'abstract': ['Two human Golli (for gene expressed in the oligodendrocyte lineage)-MBP (for myelin basic protein) cDNAs have been isolated from a human oligodendroglioma cell line.', 'Analysis of these cDNAs has enabled us to determine the entire structure of the human Golli-MBP gene.', 'The Golli-MBP gene, which encompasses the MBP transcription unit, is approximately 179 kb in length and consists of 10 exons, seven of which constitute the MBP gene.', 'The human Golli-MBP gene contains two transcription start sites, each of which gives rise to a family of alternatively spliced transcripts.', 'At least two Golli-MBP transcripts, containing the first three exons of the gene and one or more MBP exons, are produced from the first transcription start site.', 'The second family of transcripts contains only MBP exons and produces the well-known MBPs.', 'In humans, RNA blot analysis revealed that Golli-MBP transcripts were expressed in fetal thymus, spleen, and human B-cell and macrophage cell lines, as well as in fetal spinal cord.', 'These findings clearly link the expression of exons encoding the autoimmunogen/encephalitogen MBP in the central nervous system to cells and tissues of the immune system through normal expression of the Golli-MBP gene.', 'They also establish that this genetic locus, which includes the MBP gene, is conserved among species, providing further evidence that the MBP transcription unit is an integral part of the Golli transcription unit and suggest that this structural arrangement is important for the genetic function and/or regulation of these genes.'], 'structured': False}\n"
          ]
        }
      ],
      "source": [
        "import json\n",
        "file_path = '/content/corpus.jsonl'\n",
        "with open(file_path, 'r', encoding='utf-8') as f:\n",
        "    count = 0\n",
        "    for line in f:\n",
        "        data = json.loads(line)\n",
        "        print(data)\n",
        "        count += 1\n",
        "        if count == 5:\n",
        "            break\n"
      ]
    },
    {
      "cell_type": "code",
      "execution_count": null,
      "metadata": {
        "colab": {
          "base_uri": "https://localhost:8080/"
        },
        "id": "FnjbNSC7OAD8",
        "outputId": "13d57de7-a18e-42d5-d8d7-09253dd2ac62"
      },
      "outputs": [
        {
          "name": "stdout",
          "output_type": "stream",
          "text": [
            "{\n",
            "  \"id\": 0,\n",
            "  \"claim\": \"0-dimensional biomaterials lack inductive properties.\",\n",
            "  \"evidence\": {},\n",
            "  \"cited_doc_ids\": [\n",
            "    31715818\n",
            "  ]\n",
            "}\n",
            "{\n",
            "  \"id\": 2,\n",
            "  \"claim\": \"1 in 5 million in UK have abnormal PrP positivity.\",\n",
            "  \"evidence\": {\n",
            "    \"13734012\": [\n",
            "      {\n",
            "        \"sentences\": [\n",
            "          4\n",
            "        ],\n",
            "        \"label\": \"CONTRADICT\"\n",
            "      }\n",
            "    ]\n",
            "  },\n",
            "  \"cited_doc_ids\": [\n",
            "    13734012\n",
            "  ]\n",
            "}\n",
            "{\n",
            "  \"id\": 4,\n",
            "  \"claim\": \"1-1% of colorectal cancer patients are diagnosed with regional or distant metastases.\",\n",
            "  \"evidence\": {},\n",
            "  \"cited_doc_ids\": [\n",
            "    22942787\n",
            "  ]\n",
            "}\n",
            "{\n",
            "  \"id\": 6,\n",
            "  \"claim\": \"10% of sudden infant death syndrome (SIDS) deaths happen in newborns aged less than 6 months.\",\n",
            "  \"evidence\": {},\n",
            "  \"cited_doc_ids\": [\n",
            "    2613775\n",
            "  ]\n",
            "}\n",
            "{\n",
            "  \"id\": 9,\n",
            "  \"claim\": \"32% of liver transplantation programs required patients to discontinue methadone treatment in 2001.\",\n",
            "  \"evidence\": {\n",
            "    \"44265107\": [\n",
            "      {\n",
            "        \"sentences\": [\n",
            "          15\n",
            "        ],\n",
            "        \"label\": \"SUPPORT\"\n",
            "      }\n",
            "    ]\n",
            "  },\n",
            "  \"cited_doc_ids\": [\n",
            "    44265107\n",
            "  ]\n",
            "}\n"
          ]
        }
      ],
      "source": [
        "import json\n",
        "file_path = '/content/claims_train.jsonl'\n",
        "with open(file_path, 'r', encoding='utf-8') as f:\n",
        "    for i in range(5):\n",
        "        line = f.readline()\n",
        "        if not line:\n",
        "            break\n",
        "        data = json.loads(line)\n",
        "        print(json.dumps(data, indent=2, ensure_ascii=False))\n"
      ]
    },
    {
      "cell_type": "code",
      "execution_count": null,
      "metadata": {
        "colab": {
          "base_uri": "https://localhost:8080/"
        },
        "id": "0vMPGmDfRuMY",
        "outputId": "515dcc83-ccb4-4168-a51e-9546388f07a8"
      },
      "outputs": [
        {
          "name": "stdout",
          "output_type": "stream",
          "text": [
            "{\n",
            "  \"doc_id\": 44265107,\n",
            "  \"title\": \"Liver transplantation and opioid dependence.\",\n",
            "  \"abstract\": [\n",
            "    \"ContextChronic hepatitis C is the leading cause for liver transplantation in the United States.\",\n",
            "    \"Intravenous drug use, the major risk factor, accounts for approximately 60% of hepatitis C virus transmission.\",\n",
            "    \"Information from the United Network of Organ Sharing (UNOS) does not address substance use among liver transplantation patients.\",\n",
            "    \"ObjectiveTo identify addiction-related criteria for admission to the UNOS liver transplantation waiting list and posttransplantation problems experienced by patients who are prescribed maintenance methadone.\",\n",
            "    \"Design, Setting, and ParticipantsMail survey of all 97 adult US liver transplantation programs (belonging to UNOS) in March 2000 with telephone follow-up conducted in May and June 2000.Main Outcome MeasuresPrograms' acceptance and management of patients with past or present substance use disorder.\",\n",
            "    \"ResultsOf the 97 programs surveyed, 87 (90%) responded.\",\n",
            "    \"All accept applicants with a history of alcoholism or other addictions, including heroin dependence.\",\n",
            "    \"Eighty-eight percent of the responding programs require at least 6 months of abstinence from alcohol; 83% from illicit drugs.\",\n",
            "    \"Ninety-four percent have addiction treatment requirements.\",\n",
            "    \"Consultations from substance abuse specialists are obtained by 86%.\",\n",
            "    \"Patients receiving methadone maintenance are accepted by 56% of the responding programs.\",\n",
            "    \"Approximately 180 patients receiving methadone maintenance are reported to have undergone liver transplantation.\",\n",
            "    \"ConclusionsMost liver transplantation programs have established policies for patients with substance use disorders.\",\n",
            "    \"Opiate-dependent patients receiving opiate replacement therapy seem underrepresented in transplantation programs.\",\n",
            "    \"Little anecdotal evidence for negative impact of opiate replacement therapy on liver transplantation outcome was found.\",\n",
            "    \"Policies requiring discontinuation of methadone in 32% of all programs contradict the evidence base for efficacy of long-term replacement therapies and potentially result in relapse of previously stable patients.\"\n",
            "  ],\n",
            "  \"structured\": false\n",
            "}\n"
          ]
        }
      ],
      "source": [
        "import json\n",
        "\n",
        "file_path = '/content/corpus.jsonl'\n",
        "\n",
        "with open(file_path, 'r', encoding='utf-8') as f:\n",
        "    for line in f:\n",
        "        data = json.loads(line)\n",
        "        if str(data['doc_id']) == '44265107':\n",
        "            print(json.dumps(data, indent=2, ensure_ascii=False))\n",
        "            break  # Se só quer o primeiro documento encontrado, pode sair do loop aqui\n"
      ]
    },
    {
      "cell_type": "code",
      "execution_count": null,
      "metadata": {
        "colab": {
          "base_uri": "https://localhost:8080/"
        },
        "id": "JW1bhi2N0QKx",
        "outputId": "62268b6d-9c53-4adc-ef50-d0b4beec2e85"
      },
      "outputs": [
        {
          "data": {
            "text/plain": [
              "[{'id': 0,\n",
              "  'claim': '0-dimensional biomaterials lack inductive properties.',\n",
              "  'cited_doc_ids': [31715818]},\n",
              " {'id': 2,\n",
              "  'claim': '1 in 5 million in UK have abnormal PrP positivity.',\n",
              "  'cited_doc_ids': [13734012]},\n",
              " {'id': 4,\n",
              "  'claim': '1-1% of colorectal cancer patients are diagnosed with regional or distant metastases.',\n",
              "  'cited_doc_ids': [22942787]},\n",
              " {'id': 6,\n",
              "  'claim': '10% of sudden infant death syndrome (SIDS) deaths happen in newborns aged less than 6 months.',\n",
              "  'cited_doc_ids': [2613775]},\n",
              " {'id': 9,\n",
              "  'claim': '32% of liver transplantation programs required patients to discontinue methadone treatment in 2001.',\n",
              "  'cited_doc_ids': [44265107]}]"
            ]
          },
          "execution_count": 44,
          "metadata": {},
          "output_type": "execute_result"
        }
      ],
      "source": [
        "#[CLS] + claim_tokens + [SEP] + concat_sentences_tokens + [SEP] (512 tokens)\n",
        "#[CLS] Claim: A vitamina D previne COVID-19. [SEP] Evidence: Estudos mostram que a vitamina D ajuda o sistema imune. [SEP]\n",
        "\n",
        "#| rationale_mask | 0 0 0 0 0 0 0 0 0 0 0 1 1 1 1 1 1 1 1 1 0 0 0 0 0 0 0 0 0 0 0 0 |\n",
        "\n",
        "#input_ids: os IDs dos tokens do texto (claim + sentença).\n",
        "#attention_mask: diz ao modelo quais tokens são válidos (não são padding).\n",
        "#rationale_mask: supervisiona a atenção nos tokens relevantes.\n",
        "#label: classe para a tarefa de classificação.\n",
        "\n",
        "\n",
        "\n",
        "\n"
      ]
    }
  ],
  "metadata": {
    "colab": {
      "provenance": []
    },
    "kernelspec": {
      "display_name": "Python 3",
      "name": "python3"
    },
    "language_info": {
      "name": "python"
    }
  },
  "nbformat": 4,
  "nbformat_minor": 0
}
